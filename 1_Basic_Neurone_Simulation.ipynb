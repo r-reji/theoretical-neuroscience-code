{
  "nbformat": 4,
  "nbformat_minor": 0,
  "metadata": {
    "kernelspec": {
      "display_name": "Python 3",
      "language": "python",
      "name": "python3"
    },
    "language_info": {
      "codemirror_mode": {
        "name": "ipython",
        "version": 3
      },
      "file_extension": ".py",
      "mimetype": "text/x-python",
      "name": "python",
      "nbconvert_exporter": "python",
      "pygments_lexer": "ipython3",
      "version": "3.8.3"
    },
    "colab": {
      "provenance": []
    }
  },
  "cells": [
    {
      "cell_type": "code",
      "metadata": {
        "id": "Q34-IJ53VA5i"
      },
      "source": [
        "import numpy as np\n",
        "import math\n",
        "import random\n",
        "import matplotlib.pyplot as plt"
      ],
      "execution_count": null,
      "outputs": []
    },
    {
      "cell_type": "markdown",
      "metadata": {
        "id": "rQ_M2V_tVA5k"
      },
      "source": [
        "## Setting up variables and containers \n",
        "Running the simulation over time $1$s using a time step of $1$x$10^{-4}$s, starting at time $t_0$ = 0 with resting membrane capacitance $x_0$ = 0.\n",
        "Sets a constant rate of expectation for neurones to fire in order to determine whether or not a spike occurs.\n",
        "Sets up arrays in order to store values of conductance and voltage.\n",
        "\n"
      ]
    },
    {
      "cell_type": "code",
      "metadata": {
        "id": "_azV9nDvVA5k"
      },
      "source": [
        "sim_run_time = 1000\n",
        "dt = 0.1\n",
        "time = np.arange(0, sim_run_time, dt)\n",
        "\n",
        "# Initial Conditions\n",
        "t0 = 0 \n",
        "x0 = 0 \n",
        "tau = 50 # decay time constant\n",
        "\n",
        "# Rate at which we expect spikes \n",
        "R = 0.007 # per millisecond\n",
        "rate = R*dt\n",
        "\n",
        "# Containers for capacitance and voltage\n",
        "x_values = np.zeros(int(sim_run_time/dt))\n",
        "v_values = np.zeros(int(sim_run_time/dt))\n",
        "x_values[0] = x0"
      ],
      "execution_count": null,
      "outputs": []
    },
    {
      "cell_type": "markdown",
      "metadata": {
        "id": "C9OniSyBVA5l"
      },
      "source": [
        "Generates a test value for each time step to determine if a spike occurse by comparios with our fixed rate. If a spike occurs, compute the change in capacitance using the relation $$\\frac{dx}{dt} = -\\frac{x}{\\tau} + a\\delta(t-t_1)$$ where the capacitance will decay without a spike. \n",
        "\n",
        "Cases are differentiatied using a boolean expression within the evaluation."
      ]
    },
    {
      "cell_type": "code",
      "metadata": {
        "id": "DBTsIrmBVA5l"
      },
      "source": [
        "for i in range(0, int(sim_run_time/dt)-1):\n",
        "    x_values[i+1] = x_values[i] + dt*(-x_values[i]/tau + (np.random.rand())*int(bool(rate > np.random.rand())))"
      ],
      "execution_count": null,
      "outputs": []
    },
    {
      "cell_type": "markdown",
      "metadata": {
        "id": "pwOR8JKoVA5m"
      },
      "source": [
        "Every value for the conductance during our simulation time has been stored in an array. We can use these values to evaluate the voltage at any given time without the need of using and sort of ODE approximation. We can write the time-dependant synaptic conductance in the form $$g_s(t)(E_s - V) = I$$ which we can use to solve the voltage equation $$C\\frac{dV}{dt} = g_L(E_L - V) + I$$ by rewritting it as $$\\frac{dV}{dt} = \\frac{g_L(E_L - V) + g_s(t)(E_s - V)}{C}$$ and use this to evaluate the volatage at each time step.\n",
        "\n",
        "The value of the parameter $E_s$ depends on whether or not the neruon is excitory or inhibitary eauch corrisponding to values of 0mV and -80mV respectively. Sufficies to just use 0mV for now.\n"
      ]
    },
    {
      "cell_type": "code",
      "metadata": {
        "id": "nSmKtCPDVA5m"
      },
      "source": [
        "g_l = 0.1 # leaky conductance\n",
        "e_l = -60 # leaky reversal\n",
        "e_s = 0 # reversal potential\n",
        "c =  10 # capacitance\n",
        "v_values[0] = -60\n",
        "for i in range(0, int(sim_run_time/dt) - 1):\n",
        "    v_values[i+1] = v_values[i] + dt/c*(g_l*(e_l-v_values[i])+x_values[i]*(e_s - v_values[i]))"
      ],
      "execution_count": null,
      "outputs": []
    },
    {
      "cell_type": "markdown",
      "metadata": {
        "id": "_TovNnKFVA5m"
      },
      "source": [
        "Now attempting to visualise the accuracy of the Euler approximation. The theoretical result for the voltage equation is given by $$ V = E_L + \\frac{\\bar{g_s}}{g_L}(E_s - E_L)\\frac{\\tau_s}{\\tau_L - \\tau_s}(e^{-\\frac{t}{\\tau_L}} - e^{-\\frac{t}{\\tau_s}})$$ where $\\bar{g_s}$ denotes the mean value of the synaptic conductance.\n",
        "\n",
        "Calculate the value of the function for one pulse and then compare the values to that of our approximation.\n"
      ]
    },
    {
      "cell_type": "code",
      "metadata": {
        "id": "i12YCdVzVA5n"
      },
      "source": [
        "v_actual = np.zeros(int(sim_run_time/dt))\n",
        "v_actual[0] = -60\n",
        "t_s = 3\n",
        "t_l = 20\n",
        "mean = 0\n",
        "for j in x_values:\n",
        "    mean += x_values[i]/10000\n",
        "for i in range (0, len(x_values) - 1):\n",
        "    v_actual[i+1] = (math.exp(-i/t_l) - math.exp(-i/t_s))"
      ],
      "execution_count": null,
      "outputs": []
    },
    {
      "cell_type": "markdown",
      "metadata": {
        "id": "7wwZPcI3VA5n"
      },
      "source": [
        "Plots of results including a comparison between the approximated result and the theoretical result."
      ]
    },
    {
      "cell_type": "code",
      "metadata": {
        "scrolled": false,
        "colab": {
          "base_uri": "https://localhost:8080/",
          "height": 383
        },
        "id": "X-1k7msOVA5n",
        "outputId": "1ff17453-ab20-421c-917c-500233675400"
      },
      "source": [
        "figure = plt.figure(figsize = (10,5))\n",
        "plt.subplot(221)\n",
        "plt.tight_layout()\n",
        "plt.plot(time, x_values, color = 'blue', label = 'Condunctance')\n",
        "plt.ylabel('Conductance')\n",
        "plt.xlabel('Time (ms)')\n",
        "plt.subplot(223)\n",
        "plt.tight_layout()\n",
        "plt.plot(time, v_values, color = 'red', label = 'Voltage (mV)')\n",
        "plt.ylabel('Voltage')\n",
        "plt.xlabel('Time (ms)')\n",
        "plt.show()"
      ],
      "execution_count": null,
      "outputs": [
        {
          "output_type": "display_data",
          "data": {
            "image/png": "[encoded data removed]",
            "text/plain": [
              "<Figure size 720x360 with 2 Axes>"
            ]
          },
          "metadata": {
            "tags": [],
            "needs_background": "light"
          }
        }
      ]
    }
  ]
}