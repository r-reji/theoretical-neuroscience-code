{
  "nbformat": 4,
  "nbformat_minor": 0,
  "metadata": {
    "colab": {
      "provenance": []
    },
    "kernelspec": {
      "name": "python3",
      "display_name": "Python 3"
    }
  },
  "cells": [
    {
      "cell_type": "code",
      "metadata": {
        "id": "RutIeCUiFPaM"
      },
      "source": [
        "import numpy as np\n",
        "import matplotlib.pyplot as plt "
      ],
      "execution_count": null,
      "outputs": []
    },
    {
      "cell_type": "markdown",
      "metadata": {
        "id": "xWFHnxsoF6Sv"
      },
      "source": [
        "## Stochastic neuron differential equation (Gaussian Approximation)\n",
        "The voltage equation can be written in terms of voltage variance for fast synapses:\n",
        "\n",
        "\\begin{equation}\n",
        "\\tau\\frac{dV}{dt} = E_0-V+\\sigma_V\\sqrt{2\\tau}\\xi\n",
        "\\end{equation}\n",
        "\n",
        "where $E_0$ is the mean voltage and $\\sigma_V^2$ is the variance of the voltage. This is similar to the equation\n",
        "\n",
        "\\begin{equation}\n",
        "\\frac{dV}{dt} = \\frac{Ra\\tau-V}{\\tau} + a\\sqrt{R}\\xi(t)\n",
        "\\end{equation}\n",
        "\n",
        "written in terms of rate of spikes, $R$, amplitude, $a$, where $\\tau$ is the closing time constant and $\\zeta(t) = lim_{\\Delta\\rightarrow0}\\frac{\\phi}{\\sqrt{\\Delta}}$. $\\phi$ is a Gaussian random number with mean $0$ and variance $1$.\n",
        "\n",
        "Comparing the two equations, the theoretical mean, $\\mu$ of the voltage is $Ra\\tau$ while the variance, $\\sigma_V^2$ should be $\\frac{Ra^2\\tau}{2}$.\n",
        "\n",
        "The model has a voltage threshold at $V_{th}=10$ and a reset value at $V_{re}=0$, and hence whenever the voltage reaches a peak at $V_{th}$, the voltage will reset to $0$."
      ]
    },
    {
      "cell_type": "code",
      "metadata": {
        "id": "SWAZLPOPF9_7"
      },
      "source": [
        "sigV = 2 #standard deviation\n",
        "tau = 20 #closing time constant\n",
        "Vth = 10 #voltage threshold\n",
        "Vre = 0 #reset voltage\n",
        "TotalT = 10000 #ms    #Total time sampled"
      ],
      "execution_count": null,
      "outputs": []
    },
    {
      "cell_type": "code",
      "metadata": {
        "id": "vZsV-gZAGG6_"
      },
      "source": [
        "def StochDE(E0, sigV, tau, Vth, Vre, TotalT):\n",
        "  dt = 0.1\n",
        "  t = np.arange(0, TotalT, dt)\n",
        "  n = int(TotalT/dt)\n",
        "  V = np.zeros([n])\n",
        "  counter = 0\n",
        "  for i in range(0, n-1):\n",
        "    mu, sigma = 0, 1\n",
        "    if V[i] < Vth:\n",
        "      V[i+1] = V[i] + (dt/tau)*(E0-V[i]) + np.sqrt(2*dt/tau)*sigV*np.random.normal(mu, sigma, 1)\n",
        "    else:\n",
        "      V[i+1] = Vre\n",
        "      counter += 1\n",
        "  rate = counter/TotalT #ms^-1\n",
        "  return rate*1000 #s^-1 "
      ],
      "execution_count": null,
      "outputs": []
    },
    {
      "cell_type": "code",
      "metadata": {
        "colab": {
          "base_uri": "https://localhost:8080/"
        },
        "id": "oP_F-z9hGKS8",
        "outputId": "8ce0c29d-bdd2-4b14-f618-e8fdbd221d3f"
      },
      "source": [
        "k = 25\n",
        "Rates = np.zeros([k-1])\n",
        "meanVs = np.arange(1, k)\n",
        "for i in range (0, k-1):\n",
        "  Rates[i] = StochDE(i+1, sigV, tau, Vth, Vre, TotalT)\n",
        "print(Rates)"
      ],
      "execution_count": null,
      "outputs": [
        {
          "output_type": "stream",
          "text": [
            "[ 0.   0.   0.   0.8  2.   3.5  7.  10.1 16.4 21.6 27.  30.9 36.4 41.4\n",
            " 48.1 51.6 57.5 62.4 66.6 71.4 77.9 82.3 86.4 90.3]\n"
          ],
          "name": "stdout"
        }
      ]
    },
    {
      "cell_type": "code",
      "metadata": {
        "colab": {
          "base_uri": "https://localhost:8080/",
          "height": 497
        },
        "id": "doBYAKjoGTB4",
        "outputId": "4cc2e3ae-e655-4918-c247-aa1f6f0fbab6"
      },
      "source": [
        "figure = plt.figure(figsize=(10,8))\n",
        "plt.scatter(meanVs, Rates)\n",
        "plt.xlabel('Mean voltage (mV)')\n",
        "plt.ylabel('Firing Rate (1/s)')\n",
        "plt.show()"
      ],
      "execution_count": null,
      "outputs": [
        {
          "output_type": "display_data",
          "data": {
            "image/png": "[encoded data removed]",
            "text/plain": [
              "<Figure size 720x576 with 1 Axes>"
            ]
          },
          "metadata": {
            "tags": [],
            "needs_background": "light"
          }
        }
      ]
    },
    {
      "cell_type": "markdown",
      "metadata": {
        "id": "cSilxAHjGZ3h"
      },
      "source": [
        "##**Fokker-Planck Equation**\n",
        "\\begin{equation}\n",
        "\\tau_0\\frac{\\partial P}{\\partial t}=\\sigma_V^2\\frac{\\partial^2 P}{\\partial V^2} +\\frac{\\partial}{\\partial V}((V-E_0)P)\n",
        "\\end{equation}\n",
        "\n",
        "From equation (7) in LN8,\n",
        "\\begin{equation}\n",
        "\\tau_0J=(E_0-V)P-\\sigma_V^2\\frac{dP}{dV}\n",
        "\\end{equation}\n",
        "\n",
        "set the threshold for the spikes, $V_{th}$ and a reset value, $V_{re}$, and consider the steady state case where $\\partial P/\\partial t=0$.\n",
        "Hence,\n",
        "\n",
        "\\begin{equation}\n",
        "r = J(V_{th})\n",
        "\\end{equation}\n",
        "\n",
        "Write $J=r\\theta(V-V_{re})$ for $V\\leq V_{th}$ and $x=(V-E_0)/\\sigma_V$, so that $P(V)dV=p(x)dx$. \n",
        "\n",
        "Using the condition that $\\int_{-\\infty}^{x_{th}}p(x)dx=1$ the firing rate is found to be $$r = \\frac{1}{\\tau_0}Z$$ where $$Z=\\int_0^\\infty \\frac{dz}{z}(e^{x_{th}z}- e^{x_{re}z})e^{-z^2/2}$$"
      ]
    },
    {
      "cell_type": "code",
      "metadata": {
        "id": "DFrIrtd1GgRN"
      },
      "source": [
        "def func(z, xth, xre):\n",
        "  if z == 0:\n",
        "    return (xth - xre)\n",
        "  else:\n",
        "    return (1/z)*(np.exp(xth*z)-np.exp(xre*z))*np.exp(-(z**2)/2)\n",
        "\n",
        "def Ratefn(E0):\n",
        "  xth = (Vth-E0)/sigV\n",
        "  xre = (Vre-E0)/sigV\n",
        "\n",
        "  z0 = 0\n",
        "  infty = 100\n",
        "  dz = 0.001 \n",
        "  n = int(infty/dz)\n",
        "  areas = np.zeros([n]) #n numbers\n",
        "  z = np.linspace(z0, infty, n+1) #n+1 numbers\n",
        "\n",
        "  for i in range(0, n-1):\n",
        "    areas[i] = (1/2)*(z[i+1]-z[i])*(func(z[i+1], xth, xre)+ func(z[i], xth, xre))\n",
        "  Zfunc = np.sum(areas)\n",
        "  rate = (1/(tau*Zfunc))*1000 #1/s\n",
        "  return rate"
      ],
      "execution_count": null,
      "outputs": []
    },
    {
      "cell_type": "code",
      "metadata": {
        "id": "5iDDWM3NGthx"
      },
      "source": [
        "E01 = 0\n",
        "E0f = 25\n",
        "dE0 = 0.1\n",
        "k = int(E0f/dE0)\n",
        "\n",
        "E0s = np.arange(E01, E0f, dE0)\n",
        "R = np.zeros([k])\n",
        "\n",
        "for i in range(0, k):\n",
        "  R[i] = Ratefn(E0s[i])"
      ],
      "execution_count": null,
      "outputs": []
    },
    {
      "cell_type": "code",
      "metadata": {
        "colab": {
          "base_uri": "https://localhost:8080/",
          "height": 296
        },
        "id": "eg_92GdVGw2a",
        "outputId": "b5e739d2-338d-4baf-98bb-cb102381c21c"
      },
      "source": [
        "plt.xlabel('Mean Voltage (mV)')\n",
        "plt.ylabel('Rates (1/s)')\n",
        "plt.plot(E0s, R)"
      ],
      "execution_count": null,
      "outputs": [
        {
          "output_type": "execute_result",
          "data": {
            "text/plain": [
              "[<matplotlib.lines.Line2D at 0x7f977b415f28>]"
            ]
          },
          "metadata": {
            "tags": []
          },
          "execution_count": 55
        },
        {
          "output_type": "display_data",
          "data": {
            "image/png": "[encoded data removed]",
            "text/plain": [
              "<Figure size 432x288 with 1 Axes>"
            ]
          },
          "metadata": {
            "tags": [],
            "needs_background": "light"
          }
        }
      ]
    },
    {
      "cell_type": "markdown",
      "metadata": {
        "id": "3owpphPYIKgf"
      },
      "source": [
        "Combining the scatter plot of rates from the Gaussian Approximation and the line of rates against mean voltage from equation (16) of LN8, the line is a best fit to the scatter plot."
      ]
    },
    {
      "cell_type": "code",
      "metadata": {
        "colab": {
          "base_uri": "https://localhost:8080/",
          "height": 296
        },
        "id": "TH3X_MWVGy3u",
        "outputId": "11da3460-9bcb-4eaf-d854-31f2114dbe0b"
      },
      "source": [
        "plt.xlabel('Mean Voltage (mV)')\n",
        "plt.ylabel('Rates (1/s)')\n",
        "plt.scatter(meanVs, Rates)\n",
        "plt.plot(E0s, R)"
      ],
      "execution_count": null,
      "outputs": [
        {
          "output_type": "execute_result",
          "data": {
            "text/plain": [
              "[<matplotlib.lines.Line2D at 0x7f977b428d68>]"
            ]
          },
          "metadata": {
            "tags": []
          },
          "execution_count": 56
        },
        {
          "output_type": "display_data",
          "data": {
            "image/png": "[encoded data removed]",
            "text/plain": [
              "<Figure size 432x288 with 1 Axes>"
            ]
          },
          "metadata": {
            "tags": [],
            "needs_background": "light"
          }
        }
      ]
    }
  ]
}